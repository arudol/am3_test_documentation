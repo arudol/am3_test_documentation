{
 "cells": [
  {
   "cell_type": "markdown",
   "metadata": {},
   "source": [
    "# Quickstart"
   ]
  },
  {
   "cell_type": "markdown",
   "metadata": {},
   "source": [
    "Let's walk through a simple example together!"
   ]
  },
  {
   "cell_type": "markdown",
   "metadata": {},
   "source": [
    "## (1) Import all necessary libraries\n",
    "\n",
    "Note: You need to compile the shared library before, see the Installation guide."
   ]
  },
  {
   "cell_type": "code",
   "execution_count": 5,
   "metadata": {},
   "outputs": [],
   "source": [
    "from IPython.display import clear_output\n",
    "\n",
    "\n",
    "import sys\n",
    "PATH_TO_AM3 = '/home/anni/Work/Software/AM3_Software/AM3_public_and_cleanup/AM3/'\n",
    "sys.path.append(PATH_TO_AM3 + '/libpython/lib')\n",
    "import pybind_AM3 as pb\n",
    "\n",
    "# Also numpy and matplotlib for functionality\n",
    "import numpy as np\n",
    "import matplotlib.pyplot as plt\n",
    "import matplotlib\n",
    "import matplotlib.colors "
   ]
  },
  {
   "cell_type": "markdown",
   "metadata": {},
   "source": [
    "## (2) Pre-run definitions\n",
    "\n",
    "### (2.1) Useful constants"
   ]
  },
  {
   "cell_type": "code",
   "execution_count": 6,
   "metadata": {},
   "outputs": [],
   "source": [
    "# Some Constants, defining them here is a bit ugly, but might be needed for calculations\n",
    "m_e_GeV = 0.511e-3 # GeV\n",
    "m_e = 9. *10**(-28) # g\n",
    "m_p = 0.938 # GeV\n",
    "m_p_g = 1.67e-24\n",
    "c0 = 3.0e10 #cm /s \n",
    "sigma_t = 0.665e-24 # cm2\n",
    "e = 4.803e-10 # statC\n",
    "erg_to_GeV = 624.15\n"
   ]
  },
  {
   "cell_type": "markdown",
   "metadata": {},
   "source": [
    "### (2.2) Source and injection parameters"
   ]
  },
  {
   "cell_type": "code",
   "execution_count": 7,
   "metadata": {},
   "outputs": [],
   "source": [
    "# SOURCE \n",
    "Radius = 1.e15\n",
    "Bfield = 10.\n",
    "Volume = 4/3.*np.pi *Radius**3\n",
    "\n",
    "# ELECTRONS\n",
    "Gamma_min_e = 2.e0# minimum Lorentz factor\n",
    "Gamma_max_e = 1.e3\n",
    "p_e = 1.9\n",
    "\n",
    "I_inj_e = 10.0**(-7.47)\n",
    "Pjet_e = I_inj_e * 4 * np.pi * Radius * m_e * c0**3 / sigma_t \n",
    "\n",
    "#PROTONS\n",
    "Gamma_min_p = 2.e0\n",
    "Gamma_max_p = 1.e8\n",
    "\n",
    "I_inj_p = 10**(-4.93)\n",
    "Pjet_p = I_inj_p * 4 * np.pi * Radius * m_p_g * c0**3 / sigma_t\n",
    "\n",
    "p_p = 1.9"
   ]
  },
  {
   "cell_type": "markdown",
   "metadata": {},
   "source": [
    "## (3) Initialisation"
   ]
  },
  {
   "cell_type": "markdown",
   "metadata": {},
   "source": [
    "First we need to initialize the data arrays: "
   ]
  },
  {
   "cell_type": "code",
   "execution_count": 8,
   "metadata": {},
   "outputs": [],
   "source": [
    "dat = pb.AM3Arrays()\n",
    "rp = pb.RunParams()"
   ]
  },
  {
   "cell_type": "markdown",
   "metadata": {},
   "source": [
    "Then we pass the source and injection parameters:"
   ]
  },
  {
   "cell_type": "code",
   "execution_count": 9,
   "metadata": {},
   "outputs": [],
   "source": [
    "rp.e_inj_Emin_eV = Gamma_min_e * m_e_GeV * 1.e9\n",
    "rp.e_inj_Emax_eV =Gamma_max_e * m_e_GeV * 1.e9\n",
    "rp.e_inj_index = p_e\n",
    "\n",
    "rp.p_inj_Emin_eV = Gamma_min_p * m_p * 1.e9\n",
    "rp.p_inj_Emax_eV = Gamma_max_p * m_p * 1.e9\n",
    "rp.p_inj_index = p_p \n",
    "\n",
    "rp.p_in = Pjet_e / Volume\n",
    "rp.FRACe = 1.0\n",
    "rp.FRACp = Pjet_p / Pjet_e\n",
    "rp.dt = 1.e-3 * Radius / c0\n",
    "rp.B_co = Bfield\n",
    "rp.t_esc = Radius/c0"
   ]
  },
  {
   "cell_type": "markdown",
   "metadata": {},
   "source": [
    "Initialisation of physics modules:"
   ]
  },
  {
   "cell_type": "code",
   "execution_count": 10,
   "metadata": {},
   "outputs": [],
   "source": [
    "ph = pb.PhysicsHandler(rp, dat)\n"
   ]
  },
  {
   "cell_type": "markdown",
   "metadata": {},
   "source": [
    "Now comes the SimulationManager that will manage our run:\n",
    "Initialise it, set the most important switches and "
   ]
  },
  {
   "cell_type": "code",
   "execution_count": 11,
   "metadata": {},
   "outputs": [],
   "source": [
    "# Set the simulation parameters (switches for processes on/ off)\n",
    "\n",
    "sim= pb.SimulationManager(rp, ph)\n",
    "\n",
    "sim.UpdateVerbosity(0) #set verbosity to 0\n",
    "\n",
    "sim.process_in = 1 # internal injection: ON\n",
    "sim.internal_inj_type = 1 #internal injection type: 1= power-law\n",
    "\n",
    "sim.process_esy = 1 # electron synchrotron: ON\n",
    "sim.process_psy= 1 # proton synchrotron: ON\n",
    "sim.process_pisy = 0 # pion synchrotron: OFF\n",
    "sim.process_musy = 0 # muon synchrotron: OFF\n",
    "\n",
    "sim.process_eic = 1 # electron inverse Compton: ON\n",
    "sim.process_pic = 1 # proton inverse Compton: ON\n",
    "sim.process_piic = 0 # pion inverse Compton: OFF\n",
    "sim.process_muic = 0 # muon inverse Compton: OFF\n",
    "\n",
    "sim.process_sec_decay = 1 # decay of secondary particles: ON\n",
    "sim.process_pair = 0 # gamma-gamma annihilation: OFF\n",
    "sim.process_bh = 1 # photo-pair production (bethe heitler): ON\n",
    "sim.process_pg = 1 # photo-pion production: ON\n",
    "\n",
    "sim.process_es = 1 # escape: ON\n",
    "sim.escape_type = 1 # escape type: 1 = free-streaming for all particles\n",
    "\n",
    "sim.process_adi = 0 # adiabatic cooling: OFF\n",
    "sim.process_exp = 0 # volume expansion term: OFF\n",
    "\n",
    "sim.process_parse_sed = 1"
   ]
  },
  {
   "cell_type": "markdown",
   "metadata": {},
   "source": [
    "Make sure it hase the correct magnetic field and calculate the kernels for the PDE"
   ]
  },
  {
   "cell_type": "code",
   "execution_count": 12,
   "metadata": {},
   "outputs": [
    {
     "name": "stdout",
     "output_type": "stream",
     "text": [
      "init. AM3 kernels:\n",
      "AM3 has the following switches (at step: 0)\n",
      "solver - ignoreCurrentLosses: 0\n",
      "estimate maximum energies: 0\n",
      "parse sed components: 1\n",
      "internal injection: 1 ( power-law )\n",
      "external injection: 0\n",
      "escape: 1 ( free-streaming )\n",
      "expansion: 0\n",
      "adiabatic: 0\n",
      "synchrotron:\n",
      "  e+/-: 1  (rad.: 1, cool.: 1)\n",
      "  protons:1  (rad.: 1, cool.: 1)\n",
      "  pions:0  (rad.: 1, cool.: 1)\n",
      "  muons:0  (rad.: 1, cool.: 1)\n",
      "  syn-self-abs.:1\n",
      "  quantum-syn.:0\n",
      "inv. Compton:\n",
      "  e+/-: 1  (rad. (full kernel): 1, cool.: 1 (continuous))\n",
      "  photon loss due to upscattering: 1\n",
      "  protons:1  (rad. (step approx.): 1, no cooling)\n",
      "  pions:0  (rad. (step approx.): 1, cont. cool.: 1)\n",
      "  muons:0  (rad. (step approx.): 1, cont. cool.: 1)\n",
      "pair prod. (gamma+gamma->e+e)0  (photon loss.: 1, e+/- source (feedback): 1(full kernel))\n",
      "secondary decay: 1 (pi: 1, mu:1)\n",
      "proton Bethe-Heitler: 1  (rad.: 1  (full kernel), cool.: 1)\n",
      "proton p-gamma: 1  (rad.: 1 (full kernel), cool.: 1, photon loss: 1)\n",
      "\n",
      "AM3 params (comoving):\n",
      "t_esc: 33333.3 s\n",
      "t_expansion: 1e+06 s\n",
      "t_adi: 3e+06 s\n",
      "B: 10 G\n",
      "dt = 33.3333 s\n",
      "eta_Bohm: electrons:1, protons: 1\n",
      "\n"
     ]
    }
   ],
   "source": [
    "sim.Update_B(rp.B_co)\n",
    "#Initialize Kernels\n",
    "sim.InitKernels()"
   ]
  },
  {
   "cell_type": "markdown",
   "metadata": {},
   "source": [
    "Set all particle arrays to zero\n"
   ]
  },
  {
   "cell_type": "code",
   "execution_count": 13,
   "metadata": {},
   "outputs": [],
   "source": [
    "# Clear all particles\n",
    "sim.Clear_Particles()"
   ]
  },
  {
   "cell_type": "markdown",
   "metadata": {},
   "source": [
    "Initialize the input-output class:"
   ]
  },
  {
   "cell_type": "code",
   "execution_count": 14,
   "metadata": {},
   "outputs": [],
   "source": [
    "io = pb.IO(sim, rp, dat)"
   ]
  },
  {
   "cell_type": "markdown",
   "metadata": {},
   "source": [
    "Define how long the run should be"
   ]
  },
  {
   "cell_type": "code",
   "execution_count": 16,
   "metadata": {},
   "outputs": [],
   "source": [
    "times_tdyn = 8\n",
    "t_run = 0.0"
   ]
  },
  {
   "cell_type": "markdown",
   "metadata": {},
   "source": [
    "and run! "
   ]
  },
  {
   "cell_type": "code",
   "execution_count": null,
   "metadata": {},
   "outputs": [
    {
     "name": "stdout",
     "output_type": "stream",
     "text": [
      " percentage elapsed:  1.8850000000000513\n"
     ]
    }
   ],
   "source": [
    "while t_run < times_tdyn* Radius/ c0:\n",
    "    clear_output(wait=True)\n",
    "    sim.EvolveStep()\n",
    "    t_run += rp.dt\n",
    "    print(' percentage elapsed: ', t_run/(Radius/ c0))"
   ]
  },
  {
   "cell_type": "code",
   "execution_count": 18,
   "metadata": {},
   "outputs": [],
   "source": [
    "Gammas = io.Edn_dE_LepG()\n",
    "Gammas_components = np.array([io.Edn_dE_LepG(), \n",
    "                              io.Edn_dE_LepG_insy(), io.Edn_dE_LepG_inic(), \n",
    "                              io.Edn_dE_LepG_bhsy(), io.Edn_dE_LepG_bhic(),\n",
    "                              io.Edn_dE_LepG_pairsy(), io.Edn_dE_LepG_pairic(),\n",
    "                              io.Edn_dE_LepG_pgsy(), io.Edn_dE_LepG_pgic(),\n",
    "                              io.Edn_dE_LepG_psy(), io.Edn_dE_LepG_pic(),\n",
    "                              io.Edn_dE_LepG_pi0()])\n",
    "Neutrinos = io.Edn_dE_NU()\n"
   ]
  },
  {
   "cell_type": "code",
   "execution_count": 19,
   "metadata": {},
   "outputs": [],
   "source": [
    "Grid_Gammas = io.E_LepG_eV()\n",
    "Grid_Neutrinos = io.E_Nu_eV()\n"
   ]
  },
  {
   "cell_type": "code",
   "execution_count": null,
   "metadata": {},
   "outputs": [],
   "source": [
    "plt.figure(figsize = [10, 6])\n",
    "\n",
    "ax = plt.gca()\n",
    "matplotlib.rcParams.update({'font.size': 21})\n",
    "\n",
    "names = ['full spec', 'primary ele (sy)', 'primary ele (ic)', 'bh leptons (sy)', 'bh leptons (ic)', r'$\\gamma \\gamma$ leptons (sy)', \n",
    "         r'$\\gamma \\gamma$ leptons (ic)', 'photo-pion leptons (sy)', 'photo-pion leptons (ic)', 'primary prot (sy)', 'primary prot (ic)','pi0 decay']\n",
    "\n",
    "for i in range(len(Lobs)-1):\n",
    "    ax.plot(Grid_Gammas, Gammas_components[i+1]*Grid_Gammas, alpha = 1.0, label = names[i+1])\n",
    "    \n",
    "i = 0\n",
    "ax.plot(Grid_Gammas, Gammas_components[i]*Grid_Gammas, alpha = 1.0, label = names[i], color = 'k', ls = '-')\n",
    "ax.plot(Grid_Neutrinos, Neutrinos, alpha = 1.0, label = 'nu all flavour', color = 'k', ls = '--')\n",
    "\n",
    "ax.set( ylim = [1.e-19 ,1.e-9], xlim = [1.e10, 1.e34],\n",
    "        xscale = 'log', yscale = 'log',\n",
    "        xlabel = 'E [eV]', \n",
    "        ylabel = r'E$^2$dn/dE [eV/cm$^3$]',\n",
    "        title = 'Comoving particle distribition')\n",
    "\n",
    "plt.legend(fontsize = 15, bbox_to_anchor = [1.01, 0.5], loc = 'center left')\n",
    "\n",
    "plt.show()\n"
   ]
  }
 ],
 "metadata": {
  "kernelspec": {
   "display_name": "Python 3 (ipykernel)",
   "language": "python",
   "name": "python3"
  },
  "language_info": {
   "codemirror_mode": {
    "name": "ipython",
    "version": 3
   },
   "file_extension": ".py",
   "mimetype": "text/x-python",
   "name": "python",
   "nbconvert_exporter": "python",
   "pygments_lexer": "ipython3",
   "version": "3.9.15"
  }
 },
 "nbformat": 4,
 "nbformat_minor": 4
}
